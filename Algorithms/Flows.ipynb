{
 "cells": [
  {
   "cell_type": "markdown",
   "metadata": {},
   "source": [
    "# Max Flow Applications\n",
    "\n",
    "The purpose of this assignment is to investigate applications of finding a Max Flow. The problem asks you to design and implement an algorithm for shipping a material between nodes with different supply and demand requirements.\n",
    "\n",
    "* Please write code *only* in the bodies of the two functions, that is, following the TODO comments.\n",
    "* Be careful not to use varibles defined outside of the functions.\n",
    "* Breaking the two above rules may lead to 0 grades."
   ]
  },
  {
   "cell_type": "markdown",
   "metadata": {},
   "source": [
    "## Movie distribution\n",
    "\n",
    "First solve Problem 3 from HW3-theoretical. \n",
    "\n",
    "Now suppose a movie distributor would like to ship a copy of a film from CA to every other state. There are therefore 48 units to ship out of CA, and each other state receives 1 unit. \n",
    "\n",
    "The dataset contiguous-usa.dat lists the adjacent states in the US. Each line lists two adjacent states; thus AK and HI are omitted, but DC is included in the data. The following code reads in the graph of US states."
   ]
  },
  {
   "cell_type": "code",
   "execution_count": 1,
   "metadata": {
    "collapsed": false
   },
   "outputs": [],
   "source": [
    "import networkx as nx\n",
    "G = nx.Graph()\n",
    "\n",
    "usa = open('contiguous-usa.dat')\n",
    "for line in usa:\n",
    "    s1, s2 = line.strip().split()\n",
    "    G.add_edge(s1, s2)"
   ]
  },
  {
   "cell_type": "markdown",
   "metadata": {
    "collapsed": false
   },
   "source": [
    "We now encode the demands into the graph."
   ]
  },
  {
   "cell_type": "code",
   "execution_count": 2,
   "metadata": {
    "collapsed": false
   },
   "outputs": [],
   "source": [
    "for state in G.nodes():\n",
    "    if state != 'CA':\n",
    "        G.node[state]['demand'] = 1\n",
    "G.node['CA']['demand'] = -48"
   ]
  },
  {
   "cell_type": "markdown",
   "metadata": {
    "collapsed": false
   },
   "source": [
    "We will assign a uniform capacity of 16 to each edge. Since CA has only three adjacent states, this is the smallest possible uniform capacity that allows one to ship all 48 units out of CA. As we have created an undirected graph, and flows have directions, we first convert the graph to a directed graph."
   ]
  },
  {
   "cell_type": "code",
   "execution_count": 3,
   "metadata": {
    "collapsed": false
   },
   "outputs": [],
   "source": [
    "G = nx.DiGraph(G)\n",
    "uniform_capacity = 16\n",
    "for (s1, s2) in G.edges():\n",
    "    G.edge[s1][s2]['capacity'] = uniform_capacity"
   ]
  },
  {
   "cell_type": "markdown",
   "metadata": {},
   "source": [
    "Complete the following function to implement your algorithm to find a flow with demands. Your function should work correctly for any input, not just the movie instance considered here. As always, you are encouraged to define auxiliary functions as needed for clarity."
   ]
  },
  {
   "cell_type": "code",
   "execution_count": 4,
   "metadata": {
    "collapsed": false
   },
   "outputs": [],
   "source": [
    "def flow_with_demands(graph):\n",
    "    \"\"\"Computes a flow with demands over the given graph.\n",
    "    \n",
    "    Args:\n",
    "        graph: A directed graph with nodes annotated with 'demand' properties and edges annotated with 'capacity' \n",
    "            properties.\n",
    "        \n",
    "    Returns:\n",
    "        A dict of dicts containing the flow on each edge. For instance, flow[s1][s2] should provide the flow along\n",
    "        edge (s1, s2).\n",
    "        \n",
    "    Raises:\n",
    "        NetworkXUnfeasible: An error is thrown if there is no flow satisfying the demands.\n",
    "    \"\"\"\n",
    "    def checkIsfeasible(graph):\n",
    "        net_demand = 0\n",
    "        net_supply = 0\n",
    "        for state in graph.nodes():\n",
    "            if graph.node[state]['demand'] >0:\n",
    "                net_demand += graph.node[state]['demand']\n",
    "            else:\n",
    "                net_supply += graph.node[state]['demand']\n",
    "        if abs(net_demand) != abs(net_supply):\n",
    "            raise nx.NetworkXUnfeasible()\n",
    "        else:\n",
    "            return abs(net_supply)\n",
    "            \n",
    "    #check if supply(+ve demands) = demand constraint is met          \n",
    "    totalSupply = checkIsfeasible(graph)\n",
    "    \n",
    "    #create working copy\n",
    "    G_new= graph.copy()\n",
    "    superSource = 'source'\n",
    "    superSink = 'sink'\n",
    "    G_new.add_node(superSource)\n",
    "    G_new.add_node(superSink)\n",
    "    \n",
    "    #convert demands to capacitated edges in graph\n",
    "    for state in graph.nodes():\n",
    "        #print state\n",
    "        if state not in [superSink,superSource]:\n",
    "            if (graph.node[state]['demand']) >0:\n",
    "                G_new.add_edge(state,superSink)\n",
    "                G_new.edge[state][superSink]['capacity'] = abs(graph.node[state]['demand'])\n",
    "            if (graph.node[state]['demand']) <0:\n",
    "                G_new.add_edge(superSource,state)\n",
    "                G_new.edge[superSource][state]['capacity'] = abs(graph.node[state]['demand'])\n",
    "    \n",
    "    #run maxflow\n",
    "    max_flow_value = 0\n",
    "    max_flow_dict = {}\n",
    "    try:\n",
    "        max_flow_value,max_flow_dict = nx.maximum_flow(G_new, s=superSource, t=superSink, capacity='capacity')\n",
    "    except:\n",
    "        raise nx.NetworkXUnfeasible()\n",
    "        \n",
    "    #print max_flow_value\n",
    "    \n",
    "    #for demand constraint to be met,these must be equal\n",
    "    if max_flow_value != totalSupply:\n",
    "        raise nx.NetworkXUnfeasible()\n",
    "    \n",
    "    #sanity check- flow dic is not empty\n",
    "    if len(max_flow_dict)<=0:\n",
    "        raise nx.NetworkXUnfeasible()\n",
    "    \n",
    "    #format the flow dict to remove the added edges and nodes\n",
    "    del max_flow_dict[superSource]\n",
    "    del max_flow_dict[superSink]\n",
    "    \n",
    "    for startVertex in max_flow_dict:\n",
    "        endVertices = max_flow_dict[startVertex]\n",
    "        if superSink in endVertices.keys():\n",
    "            del endVertices[superSink]\n",
    "            \n",
    "    #print max_flow_dict    \n",
    "    return max_flow_dict\n"
   ]
  },
  {
   "cell_type": "markdown",
   "metadata": {},
   "source": [
    "To verify that your solution is correct, implement a function that computes the total flow into each node (which will be negative for supply nodes)."
   ]
  },
  {
   "cell_type": "code",
   "execution_count": 5,
   "metadata": {
    "collapsed": false
   },
   "outputs": [],
   "source": [
    "def divergence(flow):\n",
    "    \"\"\"Computes the total flow into each node according to the given flow dict.\n",
    "    \n",
    "    Args:\n",
    "        flow: the flow dict recording flow between nodes.\n",
    "        \n",
    "    Returns:\n",
    "        A dict of the net flow into each node.\n",
    "    \"\"\"\n",
    "    netInFlow ={}\n",
    "    ##in the flows,we have nested dictionary.\n",
    "    #the outer key is the start vertex for an outgoing edge thus outgoing flow for the node\n",
    "    #the inner keys are the nodes recieving flows\n",
    "    for startVertex in flow:\n",
    "        if startVertex in netInFlow.keys():\n",
    "            netInFlow[startVertex] -= sum(flow[startVertex].values())\n",
    "        else:\n",
    "            netInFlow[startVertex] = -1 * sum(flow[startVertex].values())\n",
    "        for endvertex in flow[startVertex]:\n",
    "            if endvertex in netInFlow.keys():\n",
    "                netInFlow[endvertex] += flow[startVertex][endvertex]\n",
    "            else:\n",
    "                netInFlow[endvertex] = flow[startVertex][endvertex]\n",
    "    return netInFlow\n",
    "\n"
   ]
  },
  {
   "cell_type": "markdown",
   "metadata": {},
   "source": [
    "The following code performs a sanity check on your function (but does not completely confirm correctness)."
   ]
  },
  {
   "cell_type": "code",
   "execution_count": 6,
   "metadata": {
    "collapsed": false
   },
   "outputs": [
    {
     "name": "stdout",
     "output_type": "stream",
     "text": [
      "Flow satisfies all demands: True\n"
     ]
    }
   ],
   "source": [
    "flow = flow_with_demands(G)\n",
    "div = divergence(flow)\n",
    "\n",
    "print \"Flow satisfies all demands:\", all(div[n] == G.node[n]['demand'] for n in G.nodes())"
   ]
  },
  {
   "cell_type": "code",
   "execution_count": 7,
   "metadata": {
    "collapsed": false
   },
   "outputs": [],
   "source": [
    "#div"
   ]
  },
  {
   "cell_type": "code",
   "execution_count": 8,
   "metadata": {
    "collapsed": false
   },
   "outputs": [],
   "source": [
    "#flow"
   ]
  },
  {
   "cell_type": "code",
   "execution_count": null,
   "metadata": {
    "collapsed": true
   },
   "outputs": [],
   "source": []
  }
 ],
 "metadata": {
  "anaconda-cloud": {},
  "kernelspec": {
   "display_name": "Python [Root]",
   "language": "python",
   "name": "Python [Root]"
  },
  "language_info": {
   "codemirror_mode": {
    "name": "ipython",
    "version": 2
   },
   "file_extension": ".py",
   "mimetype": "text/x-python",
   "name": "python",
   "nbconvert_exporter": "python",
   "pygments_lexer": "ipython2",
   "version": "2.7.12"
  }
 },
 "nbformat": 4,
 "nbformat_minor": 0
}
